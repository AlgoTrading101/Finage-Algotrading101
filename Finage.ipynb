{
  "nbformat": 4,
  "nbformat_minor": 0,
  "metadata": {
    "colab": {
      "provenance": [],
      "collapsed_sections": [
        "z54eYlZzsjt1",
        "RKlRVTKL4uHD",
        "Zaw-byK76u2Y",
        "J-AYeDA1BUbt",
        "aiaGqC2HB6y2",
        "Utf_PHmmEEDS",
        "MRpNDHGvFViw",
        "JwWFQhnzGCeB",
        "fDqwM7ZWGa67",
        "sB70BuxEG75Y",
        "blLbuWZrHZAA",
        "pXgjDvM7H8MN"
      ],
      "authorship_tag": "ABX9TyNGuwiWHb09vI0TqF1RmM47",
      "include_colab_link": true
    },
    "kernelspec": {
      "name": "python3",
      "display_name": "Python 3"
    },
    "language_info": {
      "name": "python"
    }
  },
  "cells": [
    {
      "cell_type": "markdown",
      "metadata": {
        "id": "view-in-github",
        "colab_type": "text"
      },
      "source": [
        "<a href=\"https://colab.research.google.com/github/IgorWounds/Finage-Algotrading101/blob/main/Finage.ipynb\" target=\"_parent\"><img src=\"https://colab.research.google.com/assets/colab-badge.svg\" alt=\"Open In Colab\"/></a>"
      ]
    },
    {
      "cell_type": "markdown",
      "source": [
        "# Setup"
      ],
      "metadata": {
        "id": "BYskO9UksilP"
      }
    },
    {
      "cell_type": "code",
      "execution_count": null,
      "metadata": {
        "id": "FWLJsY0U4f4G"
      },
      "outputs": [],
      "source": [
        "import requests\n",
        "import pandas as pd\n",
        "\n",
        "API_KEY = \"?apikey=\"\n",
        "URL = \"https://api.finage.co.uk/\""
      ]
    },
    {
      "cell_type": "markdown",
      "source": [
        "# US Stock Data"
      ],
      "metadata": {
        "id": "z54eYlZzsjt1"
      }
    },
    {
      "cell_type": "markdown",
      "source": [
        "## Last Qoute"
      ],
      "metadata": {
        "id": "QxNPdc5xwJiP"
      }
    },
    {
      "cell_type": "code",
      "source": [
        "last_qoute = requests.get(URL + 'last/stock/TSLA' + API_KEY).json()\n",
        "last_qoute"
      ],
      "metadata": {
        "colab": {
          "base_uri": "https://localhost:8080/"
        },
        "id": "L0KBzduUslBb",
        "outputId": "04be625f-e5c8-4356-b9b1-785c97ebbd54"
      },
      "execution_count": null,
      "outputs": [
        {
          "output_type": "execute_result",
          "data": {
            "text/plain": [
              "{'symbol': 'TSLA',\n",
              " 'ask': 272.46,\n",
              " 'bid': 272.4,\n",
              " 'asize': 2,\n",
              " 'bsize': 1,\n",
              " 'timestamp': 1662485938707}"
            ]
          },
          "metadata": {},
          "execution_count": 13
        }
      ]
    },
    {
      "cell_type": "markdown",
      "source": [
        "## Last Trade"
      ],
      "metadata": {
        "id": "C11pAmUlwL31"
      }
    },
    {
      "cell_type": "code",
      "source": [
        "last_trade = requests.get(URL + 'last/trade/stock/TSLA' + API_KEY).json()\n",
        "last_trade"
      ],
      "metadata": {
        "colab": {
          "base_uri": "https://localhost:8080/"
        },
        "id": "EAQ-69QcvpuV",
        "outputId": "994dd139-6ac2-4d00-83f6-cc5dc66c71cc"
      },
      "execution_count": null,
      "outputs": [
        {
          "output_type": "execute_result",
          "data": {
            "text/plain": [
              "{'symbol': 'TSLA', 'price': 273.45, 'size': 1, 'timestamp': 1662483765986}"
            ]
          },
          "metadata": {},
          "execution_count": 6
        }
      ]
    },
    {
      "cell_type": "markdown",
      "source": [
        "## Price Changes"
      ],
      "metadata": {
        "id": "aCK8GPTyw1sJ"
      }
    },
    {
      "cell_type": "code",
      "source": [
        "price_change = requests.get(URL + 'last/stock/changes/TSLA' + API_KEY).json()\n",
        "price_change"
      ],
      "metadata": {
        "colab": {
          "base_uri": "https://localhost:8080/"
        },
        "id": "1kn_Xu28wRiY",
        "outputId": "d8fa3323-8abb-4595-d97f-ef02ebd16d87"
      },
      "execution_count": null,
      "outputs": [
        {
          "output_type": "execute_result",
          "data": {
            "text/plain": [
              "{'s': 'TSLA',\n",
              " 'lp': 272.785,\n",
              " 'cpd': 0.95,\n",
              " 'cpw': -1.77,\n",
              " 'cpm': -68.69,\n",
              " 'cpsm': -67.46,\n",
              " 'cpy': -63.77,\n",
              " 't': 1662483958923}"
            ]
          },
          "metadata": {},
          "execution_count": 8
        }
      ]
    },
    {
      "cell_type": "markdown",
      "source": [
        "## Snapshot"
      ],
      "metadata": {
        "id": "jU30SXP2xqoY"
      }
    },
    {
      "cell_type": "code",
      "source": [
        "snapshot = requests.get(URL + 'snapshot/stock' + API_KEY).json()\n",
        "#snapshot"
      ],
      "metadata": {
        "id": "9qZwpWCnw-Ui"
      },
      "execution_count": null,
      "outputs": []
    },
    {
      "cell_type": "code",
      "source": [
        "df = pd.DataFrame(snapshot['lastQuotes'])\n",
        "df.head()"
      ],
      "metadata": {
        "colab": {
          "base_uri": "https://localhost:8080/",
          "height": 206
        },
        "id": "zU6G7DYmyIqw",
        "outputId": "e3afd251-15aa-4b12-dd8a-1c4a4d24fa1d"
      },
      "execution_count": null,
      "outputs": [
        {
          "output_type": "execute_result",
          "data": {
            "text/plain": [
              "      s       a       b  asz  bsz                 t\n",
              "0  HMNF   22.75   22.61    5    1  1662483570892456\n",
              "1  PFRL   49.77   49.73    1    1  1662484170005177\n",
              "2  MDWT   15.20   14.75    1    1  1662484078659959\n",
              "3   CAT  180.01  179.90    2    2  1662484195887232\n",
              "4  ELSE    5.74    5.65    2    9  1662484080590238"
            ],
            "text/html": [
              "\n",
              "  <div id=\"df-5b063487-a05f-47be-bb75-5f734f97d337\">\n",
              "    <div class=\"colab-df-container\">\n",
              "      <div>\n",
              "<style scoped>\n",
              "    .dataframe tbody tr th:only-of-type {\n",
              "        vertical-align: middle;\n",
              "    }\n",
              "\n",
              "    .dataframe tbody tr th {\n",
              "        vertical-align: top;\n",
              "    }\n",
              "\n",
              "    .dataframe thead th {\n",
              "        text-align: right;\n",
              "    }\n",
              "</style>\n",
              "<table border=\"1\" class=\"dataframe\">\n",
              "  <thead>\n",
              "    <tr style=\"text-align: right;\">\n",
              "      <th></th>\n",
              "      <th>s</th>\n",
              "      <th>a</th>\n",
              "      <th>b</th>\n",
              "      <th>asz</th>\n",
              "      <th>bsz</th>\n",
              "      <th>t</th>\n",
              "    </tr>\n",
              "  </thead>\n",
              "  <tbody>\n",
              "    <tr>\n",
              "      <th>0</th>\n",
              "      <td>HMNF</td>\n",
              "      <td>22.75</td>\n",
              "      <td>22.61</td>\n",
              "      <td>5</td>\n",
              "      <td>1</td>\n",
              "      <td>1662483570892456</td>\n",
              "    </tr>\n",
              "    <tr>\n",
              "      <th>1</th>\n",
              "      <td>PFRL</td>\n",
              "      <td>49.77</td>\n",
              "      <td>49.73</td>\n",
              "      <td>1</td>\n",
              "      <td>1</td>\n",
              "      <td>1662484170005177</td>\n",
              "    </tr>\n",
              "    <tr>\n",
              "      <th>2</th>\n",
              "      <td>MDWT</td>\n",
              "      <td>15.20</td>\n",
              "      <td>14.75</td>\n",
              "      <td>1</td>\n",
              "      <td>1</td>\n",
              "      <td>1662484078659959</td>\n",
              "    </tr>\n",
              "    <tr>\n",
              "      <th>3</th>\n",
              "      <td>CAT</td>\n",
              "      <td>180.01</td>\n",
              "      <td>179.90</td>\n",
              "      <td>2</td>\n",
              "      <td>2</td>\n",
              "      <td>1662484195887232</td>\n",
              "    </tr>\n",
              "    <tr>\n",
              "      <th>4</th>\n",
              "      <td>ELSE</td>\n",
              "      <td>5.74</td>\n",
              "      <td>5.65</td>\n",
              "      <td>2</td>\n",
              "      <td>9</td>\n",
              "      <td>1662484080590238</td>\n",
              "    </tr>\n",
              "  </tbody>\n",
              "</table>\n",
              "</div>\n",
              "      <button class=\"colab-df-convert\" onclick=\"convertToInteractive('df-5b063487-a05f-47be-bb75-5f734f97d337')\"\n",
              "              title=\"Convert this dataframe to an interactive table.\"\n",
              "              style=\"display:none;\">\n",
              "        \n",
              "  <svg xmlns=\"http://www.w3.org/2000/svg\" height=\"24px\"viewBox=\"0 0 24 24\"\n",
              "       width=\"24px\">\n",
              "    <path d=\"M0 0h24v24H0V0z\" fill=\"none\"/>\n",
              "    <path d=\"M18.56 5.44l.94 2.06.94-2.06 2.06-.94-2.06-.94-.94-2.06-.94 2.06-2.06.94zm-11 1L8.5 8.5l.94-2.06 2.06-.94-2.06-.94L8.5 2.5l-.94 2.06-2.06.94zm10 10l.94 2.06.94-2.06 2.06-.94-2.06-.94-.94-2.06-.94 2.06-2.06.94z\"/><path d=\"M17.41 7.96l-1.37-1.37c-.4-.4-.92-.59-1.43-.59-.52 0-1.04.2-1.43.59L10.3 9.45l-7.72 7.72c-.78.78-.78 2.05 0 2.83L4 21.41c.39.39.9.59 1.41.59.51 0 1.02-.2 1.41-.59l7.78-7.78 2.81-2.81c.8-.78.8-2.07 0-2.86zM5.41 20L4 18.59l7.72-7.72 1.47 1.35L5.41 20z\"/>\n",
              "  </svg>\n",
              "      </button>\n",
              "      \n",
              "  <style>\n",
              "    .colab-df-container {\n",
              "      display:flex;\n",
              "      flex-wrap:wrap;\n",
              "      gap: 12px;\n",
              "    }\n",
              "\n",
              "    .colab-df-convert {\n",
              "      background-color: #E8F0FE;\n",
              "      border: none;\n",
              "      border-radius: 50%;\n",
              "      cursor: pointer;\n",
              "      display: none;\n",
              "      fill: #1967D2;\n",
              "      height: 32px;\n",
              "      padding: 0 0 0 0;\n",
              "      width: 32px;\n",
              "    }\n",
              "\n",
              "    .colab-df-convert:hover {\n",
              "      background-color: #E2EBFA;\n",
              "      box-shadow: 0px 1px 2px rgba(60, 64, 67, 0.3), 0px 1px 3px 1px rgba(60, 64, 67, 0.15);\n",
              "      fill: #174EA6;\n",
              "    }\n",
              "\n",
              "    [theme=dark] .colab-df-convert {\n",
              "      background-color: #3B4455;\n",
              "      fill: #D2E3FC;\n",
              "    }\n",
              "\n",
              "    [theme=dark] .colab-df-convert:hover {\n",
              "      background-color: #434B5C;\n",
              "      box-shadow: 0px 1px 3px 1px rgba(0, 0, 0, 0.15);\n",
              "      filter: drop-shadow(0px 1px 2px rgba(0, 0, 0, 0.3));\n",
              "      fill: #FFFFFF;\n",
              "    }\n",
              "  </style>\n",
              "\n",
              "      <script>\n",
              "        const buttonEl =\n",
              "          document.querySelector('#df-5b063487-a05f-47be-bb75-5f734f97d337 button.colab-df-convert');\n",
              "        buttonEl.style.display =\n",
              "          google.colab.kernel.accessAllowed ? 'block' : 'none';\n",
              "\n",
              "        async function convertToInteractive(key) {\n",
              "          const element = document.querySelector('#df-5b063487-a05f-47be-bb75-5f734f97d337');\n",
              "          const dataTable =\n",
              "            await google.colab.kernel.invokeFunction('convertToInteractive',\n",
              "                                                     [key], {});\n",
              "          if (!dataTable) return;\n",
              "\n",
              "          const docLinkHtml = 'Like what you see? Visit the ' +\n",
              "            '<a target=\"_blank\" href=https://colab.research.google.com/notebooks/data_table.ipynb>data table notebook</a>'\n",
              "            + ' to learn more about interactive tables.';\n",
              "          element.innerHTML = '';\n",
              "          dataTable['output_type'] = 'display_data';\n",
              "          await google.colab.output.renderOutput(dataTable, element);\n",
              "          const docLink = document.createElement('div');\n",
              "          docLink.innerHTML = docLinkHtml;\n",
              "          element.appendChild(docLink);\n",
              "        }\n",
              "      </script>\n",
              "    </div>\n",
              "  </div>\n",
              "  "
            ]
          },
          "metadata": {},
          "execution_count": 11
        }
      ]
    },
    {
      "cell_type": "markdown",
      "source": [
        "# Forex"
      ],
      "metadata": {
        "id": "RKlRVTKL4uHD"
      }
    },
    {
      "cell_type": "markdown",
      "source": [
        "## Historical Tick Data"
      ],
      "metadata": {
        "id": "BqHkIPx_5ZHt"
      }
    },
    {
      "cell_type": "code",
      "source": [
        "historical_tick = requests.get(URL + 'history/ticks/forex/EURUSD/2022-09-05' + API_KEY).json()\n",
        "historical_tick"
      ],
      "metadata": {
        "id": "j8UZjjRvx6iv",
        "colab": {
          "base_uri": "https://localhost:8080/"
        },
        "outputId": "c8e7b518-372e-45fd-cc8f-2f265ae42302"
      },
      "execution_count": null,
      "outputs": [
        {
          "output_type": "execute_result",
          "data": {
            "text/plain": [
              "{'symbol': 'EURUSD',\n",
              " 'date': '2022-09-05',\n",
              " 'ticks': [{'b': 0.9908, 'a': 0.9911, 't': 1662336000000},\n",
              "  {'b': 0.99075, 'a': 0.99082, 't': 1662336001000},\n",
              "  {'b': 0.99077, 'a': 0.99084, 't': 1662336002000},\n",
              "  {'b': 0.99076, 'a': 0.99083, 't': 1662336003000},\n",
              "  {'b': 0.9908, 'a': 0.99087, 't': 1662336004000},\n",
              "  {'b': 0.99093, 'a': 0.991, 't': 1662336005000},\n",
              "  {'b': 0.99095, 'a': 0.99102, 't': 1662336006000},\n",
              "  {'b': 0.99095, 'a': 0.99102, 't': 1662336007000},\n",
              "  {'b': 0.99093, 'a': 0.991, 't': 1662336008000},\n",
              "  {'b': 0.9907, 'a': 0.991, 't': 1662336010000}]}"
            ]
          },
          "metadata": {},
          "execution_count": 14
        }
      ]
    },
    {
      "cell_type": "markdown",
      "source": [
        "## Previous Close"
      ],
      "metadata": {
        "id": "45LtLQFu5a0D"
      }
    },
    {
      "cell_type": "code",
      "source": [
        "previous_close = requests.get(URL + 'agg/forex/prev-close/EURGBP' + API_KEY).json()\n",
        "previous_close"
      ],
      "metadata": {
        "colab": {
          "base_uri": "https://localhost:8080/"
        },
        "id": "aGHx2WNQ5cvb",
        "outputId": "5ba4c0b0-9f55-4602-8a5f-a8c846983b45"
      },
      "execution_count": null,
      "outputs": [
        {
          "output_type": "execute_result",
          "data": {
            "text/plain": [
              "{'symbol': 'EURGBP',\n",
              " 'totalResults': 1,\n",
              " 'results': [{'o': 0.86352,\n",
              "   'h': 0.8655,\n",
              "   'l': 0.85928,\n",
              "   'c': 0.86032,\n",
              "   'v': 242717,\n",
              "   't': 1662422399999}]}"
            ]
          },
          "metadata": {},
          "execution_count": 15
        }
      ]
    },
    {
      "cell_type": "markdown",
      "source": [
        "## Conversion"
      ],
      "metadata": {
        "id": "3laOuz_0580u"
      }
    },
    {
      "cell_type": "code",
      "source": [
        "usd_to_jpy = requests.get(URL + 'convert/forex/USD/JPY/1000' + API_KEY).json()\n",
        "usd_to_jpy"
      ],
      "metadata": {
        "colab": {
          "base_uri": "https://localhost:8080/"
        },
        "id": "1aMzUYNi5m9x",
        "outputId": "f3f5dc19-383e-435c-bfeb-67aa051b8a7a"
      },
      "execution_count": null,
      "outputs": [
        {
          "output_type": "execute_result",
          "data": {
            "text/plain": [
              "{'from': 'USD',\n",
              " 'to': 'JPY',\n",
              " 'amount': 1000,\n",
              " 'value': 142929,\n",
              " 'timestamp': 1662486356000}"
            ]
          },
          "metadata": {},
          "execution_count": 16
        }
      ]
    },
    {
      "cell_type": "markdown",
      "source": [
        "# Crypto"
      ],
      "metadata": {
        "id": "Zaw-byK76u2Y"
      }
    },
    {
      "cell_type": "markdown",
      "source": [
        "## Historical Market Cap Data"
      ],
      "metadata": {
        "id": "W4PkUiGC9JOv"
      }
    },
    {
      "cell_type": "code",
      "source": [
        "historical_market_cap = pd.DataFrame(\n",
        "    requests.get(URL + 'history/market-cap/crypto/bitcoin/2022-01-01/2022-09-05' + API_KEY).json()\n",
        "    ['results']\n",
        "    )\n",
        "\n",
        "historical_market_cap.tail()"
      ],
      "metadata": {
        "colab": {
          "base_uri": "https://localhost:8080/",
          "height": 206
        },
        "id": "Kcbh-3MO6KeS",
        "outputId": "60a51148-aa72-42f2-dedc-268d04809de7"
      },
      "execution_count": null,
      "outputs": [
        {
          "output_type": "execute_result",
          "data": {
            "text/plain": [
              "             p            mc            v              t\n",
              "15  43226.6503  816800318527  14651008625  1642291200000\n",
              "16  43119.7921  816325578941  14452346389  1642377600000\n",
              "17  42298.3411  800822650384  17694929626  1642464000000\n",
              "18  42395.4588  803962100418  18897950050  1642550400000\n",
              "19  41749.5514  790507925309  19626113310  1642636800000"
            ],
            "text/html": [
              "\n",
              "  <div id=\"df-2145a22e-0426-4c1f-8676-f56780effcf6\">\n",
              "    <div class=\"colab-df-container\">\n",
              "      <div>\n",
              "<style scoped>\n",
              "    .dataframe tbody tr th:only-of-type {\n",
              "        vertical-align: middle;\n",
              "    }\n",
              "\n",
              "    .dataframe tbody tr th {\n",
              "        vertical-align: top;\n",
              "    }\n",
              "\n",
              "    .dataframe thead th {\n",
              "        text-align: right;\n",
              "    }\n",
              "</style>\n",
              "<table border=\"1\" class=\"dataframe\">\n",
              "  <thead>\n",
              "    <tr style=\"text-align: right;\">\n",
              "      <th></th>\n",
              "      <th>p</th>\n",
              "      <th>mc</th>\n",
              "      <th>v</th>\n",
              "      <th>t</th>\n",
              "    </tr>\n",
              "  </thead>\n",
              "  <tbody>\n",
              "    <tr>\n",
              "      <th>15</th>\n",
              "      <td>43226.6503</td>\n",
              "      <td>816800318527</td>\n",
              "      <td>14651008625</td>\n",
              "      <td>1642291200000</td>\n",
              "    </tr>\n",
              "    <tr>\n",
              "      <th>16</th>\n",
              "      <td>43119.7921</td>\n",
              "      <td>816325578941</td>\n",
              "      <td>14452346389</td>\n",
              "      <td>1642377600000</td>\n",
              "    </tr>\n",
              "    <tr>\n",
              "      <th>17</th>\n",
              "      <td>42298.3411</td>\n",
              "      <td>800822650384</td>\n",
              "      <td>17694929626</td>\n",
              "      <td>1642464000000</td>\n",
              "    </tr>\n",
              "    <tr>\n",
              "      <th>18</th>\n",
              "      <td>42395.4588</td>\n",
              "      <td>803962100418</td>\n",
              "      <td>18897950050</td>\n",
              "      <td>1642550400000</td>\n",
              "    </tr>\n",
              "    <tr>\n",
              "      <th>19</th>\n",
              "      <td>41749.5514</td>\n",
              "      <td>790507925309</td>\n",
              "      <td>19626113310</td>\n",
              "      <td>1642636800000</td>\n",
              "    </tr>\n",
              "  </tbody>\n",
              "</table>\n",
              "</div>\n",
              "      <button class=\"colab-df-convert\" onclick=\"convertToInteractive('df-2145a22e-0426-4c1f-8676-f56780effcf6')\"\n",
              "              title=\"Convert this dataframe to an interactive table.\"\n",
              "              style=\"display:none;\">\n",
              "        \n",
              "  <svg xmlns=\"http://www.w3.org/2000/svg\" height=\"24px\"viewBox=\"0 0 24 24\"\n",
              "       width=\"24px\">\n",
              "    <path d=\"M0 0h24v24H0V0z\" fill=\"none\"/>\n",
              "    <path d=\"M18.56 5.44l.94 2.06.94-2.06 2.06-.94-2.06-.94-.94-2.06-.94 2.06-2.06.94zm-11 1L8.5 8.5l.94-2.06 2.06-.94-2.06-.94L8.5 2.5l-.94 2.06-2.06.94zm10 10l.94 2.06.94-2.06 2.06-.94-2.06-.94-.94-2.06-.94 2.06-2.06.94z\"/><path d=\"M17.41 7.96l-1.37-1.37c-.4-.4-.92-.59-1.43-.59-.52 0-1.04.2-1.43.59L10.3 9.45l-7.72 7.72c-.78.78-.78 2.05 0 2.83L4 21.41c.39.39.9.59 1.41.59.51 0 1.02-.2 1.41-.59l7.78-7.78 2.81-2.81c.8-.78.8-2.07 0-2.86zM5.41 20L4 18.59l7.72-7.72 1.47 1.35L5.41 20z\"/>\n",
              "  </svg>\n",
              "      </button>\n",
              "      \n",
              "  <style>\n",
              "    .colab-df-container {\n",
              "      display:flex;\n",
              "      flex-wrap:wrap;\n",
              "      gap: 12px;\n",
              "    }\n",
              "\n",
              "    .colab-df-convert {\n",
              "      background-color: #E8F0FE;\n",
              "      border: none;\n",
              "      border-radius: 50%;\n",
              "      cursor: pointer;\n",
              "      display: none;\n",
              "      fill: #1967D2;\n",
              "      height: 32px;\n",
              "      padding: 0 0 0 0;\n",
              "      width: 32px;\n",
              "    }\n",
              "\n",
              "    .colab-df-convert:hover {\n",
              "      background-color: #E2EBFA;\n",
              "      box-shadow: 0px 1px 2px rgba(60, 64, 67, 0.3), 0px 1px 3px 1px rgba(60, 64, 67, 0.15);\n",
              "      fill: #174EA6;\n",
              "    }\n",
              "\n",
              "    [theme=dark] .colab-df-convert {\n",
              "      background-color: #3B4455;\n",
              "      fill: #D2E3FC;\n",
              "    }\n",
              "\n",
              "    [theme=dark] .colab-df-convert:hover {\n",
              "      background-color: #434B5C;\n",
              "      box-shadow: 0px 1px 3px 1px rgba(0, 0, 0, 0.15);\n",
              "      filter: drop-shadow(0px 1px 2px rgba(0, 0, 0, 0.3));\n",
              "      fill: #FFFFFF;\n",
              "    }\n",
              "  </style>\n",
              "\n",
              "      <script>\n",
              "        const buttonEl =\n",
              "          document.querySelector('#df-2145a22e-0426-4c1f-8676-f56780effcf6 button.colab-df-convert');\n",
              "        buttonEl.style.display =\n",
              "          google.colab.kernel.accessAllowed ? 'block' : 'none';\n",
              "\n",
              "        async function convertToInteractive(key) {\n",
              "          const element = document.querySelector('#df-2145a22e-0426-4c1f-8676-f56780effcf6');\n",
              "          const dataTable =\n",
              "            await google.colab.kernel.invokeFunction('convertToInteractive',\n",
              "                                                     [key], {});\n",
              "          if (!dataTable) return;\n",
              "\n",
              "          const docLinkHtml = 'Like what you see? Visit the ' +\n",
              "            '<a target=\"_blank\" href=https://colab.research.google.com/notebooks/data_table.ipynb>data table notebook</a>'\n",
              "            + ' to learn more about interactive tables.';\n",
              "          element.innerHTML = '';\n",
              "          dataTable['output_type'] = 'display_data';\n",
              "          await google.colab.output.renderOutput(dataTable, element);\n",
              "          const docLink = document.createElement('div');\n",
              "          docLink.innerHTML = docLinkHtml;\n",
              "          element.appendChild(docLink);\n",
              "        }\n",
              "      </script>\n",
              "    </div>\n",
              "  </div>\n",
              "  "
            ]
          },
          "metadata": {},
          "execution_count": 33
        }
      ]
    },
    {
      "cell_type": "markdown",
      "source": [
        "## Market Depth"
      ],
      "metadata": {
        "id": "5CrvJZGJ-Dy7"
      }
    },
    {
      "cell_type": "code",
      "source": [
        "market_depth_bids = pd.DataFrame(\n",
        "    requests.get(URL + 'depth/crypto/ETHUSD' + API_KEY).json()['bids'],\n",
        "    columns=['bid_price', 'bid_size']\n",
        "    )\n",
        "\n",
        "market_depth_asks = pd.DataFrame(\n",
        "    requests.get(URL + 'depth/crypto/ETHUSD' + API_KEY).json()['asks'],\n",
        "    columns=['ask_price', 'ask_size']\n",
        "    )\n",
        "\n",
        "market_depth = market_depth_bids.join(market_depth_asks)\n",
        "market_depth.tail()"
      ],
      "metadata": {
        "colab": {
          "base_uri": "https://localhost:8080/",
          "height": 206
        },
        "id": "plhgS-bC8XBU",
        "outputId": "d3d9d92a-be66-4528-a981-be05c6e55941"
      },
      "execution_count": null,
      "outputs": [
        {
          "output_type": "execute_result",
          "data": {
            "text/plain": [
              "        bid_price     bid_size      ask_price    ask_size\n",
              "95  1580.29000000   2.12820000  1584.84000000  0.63060000\n",
              "96  1580.27000000   0.11050000  1584.85000000  0.27900000\n",
              "97  1580.25000000   0.03000000  1584.86000000  0.12290000\n",
              "98  1580.23000000   0.31980000  1584.88000000  3.59930000\n",
              "99  1580.22000000  19.85600000  1584.90000000  0.03470000"
            ],
            "text/html": [
              "\n",
              "  <div id=\"df-49e63134-61c7-4c11-9bfb-b2bc16f2f437\">\n",
              "    <div class=\"colab-df-container\">\n",
              "      <div>\n",
              "<style scoped>\n",
              "    .dataframe tbody tr th:only-of-type {\n",
              "        vertical-align: middle;\n",
              "    }\n",
              "\n",
              "    .dataframe tbody tr th {\n",
              "        vertical-align: top;\n",
              "    }\n",
              "\n",
              "    .dataframe thead th {\n",
              "        text-align: right;\n",
              "    }\n",
              "</style>\n",
              "<table border=\"1\" class=\"dataframe\">\n",
              "  <thead>\n",
              "    <tr style=\"text-align: right;\">\n",
              "      <th></th>\n",
              "      <th>bid_price</th>\n",
              "      <th>bid_size</th>\n",
              "      <th>ask_price</th>\n",
              "      <th>ask_size</th>\n",
              "    </tr>\n",
              "  </thead>\n",
              "  <tbody>\n",
              "    <tr>\n",
              "      <th>95</th>\n",
              "      <td>1580.29000000</td>\n",
              "      <td>2.12820000</td>\n",
              "      <td>1584.84000000</td>\n",
              "      <td>0.63060000</td>\n",
              "    </tr>\n",
              "    <tr>\n",
              "      <th>96</th>\n",
              "      <td>1580.27000000</td>\n",
              "      <td>0.11050000</td>\n",
              "      <td>1584.85000000</td>\n",
              "      <td>0.27900000</td>\n",
              "    </tr>\n",
              "    <tr>\n",
              "      <th>97</th>\n",
              "      <td>1580.25000000</td>\n",
              "      <td>0.03000000</td>\n",
              "      <td>1584.86000000</td>\n",
              "      <td>0.12290000</td>\n",
              "    </tr>\n",
              "    <tr>\n",
              "      <th>98</th>\n",
              "      <td>1580.23000000</td>\n",
              "      <td>0.31980000</td>\n",
              "      <td>1584.88000000</td>\n",
              "      <td>3.59930000</td>\n",
              "    </tr>\n",
              "    <tr>\n",
              "      <th>99</th>\n",
              "      <td>1580.22000000</td>\n",
              "      <td>19.85600000</td>\n",
              "      <td>1584.90000000</td>\n",
              "      <td>0.03470000</td>\n",
              "    </tr>\n",
              "  </tbody>\n",
              "</table>\n",
              "</div>\n",
              "      <button class=\"colab-df-convert\" onclick=\"convertToInteractive('df-49e63134-61c7-4c11-9bfb-b2bc16f2f437')\"\n",
              "              title=\"Convert this dataframe to an interactive table.\"\n",
              "              style=\"display:none;\">\n",
              "        \n",
              "  <svg xmlns=\"http://www.w3.org/2000/svg\" height=\"24px\"viewBox=\"0 0 24 24\"\n",
              "       width=\"24px\">\n",
              "    <path d=\"M0 0h24v24H0V0z\" fill=\"none\"/>\n",
              "    <path d=\"M18.56 5.44l.94 2.06.94-2.06 2.06-.94-2.06-.94-.94-2.06-.94 2.06-2.06.94zm-11 1L8.5 8.5l.94-2.06 2.06-.94-2.06-.94L8.5 2.5l-.94 2.06-2.06.94zm10 10l.94 2.06.94-2.06 2.06-.94-2.06-.94-.94-2.06-.94 2.06-2.06.94z\"/><path d=\"M17.41 7.96l-1.37-1.37c-.4-.4-.92-.59-1.43-.59-.52 0-1.04.2-1.43.59L10.3 9.45l-7.72 7.72c-.78.78-.78 2.05 0 2.83L4 21.41c.39.39.9.59 1.41.59.51 0 1.02-.2 1.41-.59l7.78-7.78 2.81-2.81c.8-.78.8-2.07 0-2.86zM5.41 20L4 18.59l7.72-7.72 1.47 1.35L5.41 20z\"/>\n",
              "  </svg>\n",
              "      </button>\n",
              "      \n",
              "  <style>\n",
              "    .colab-df-container {\n",
              "      display:flex;\n",
              "      flex-wrap:wrap;\n",
              "      gap: 12px;\n",
              "    }\n",
              "\n",
              "    .colab-df-convert {\n",
              "      background-color: #E8F0FE;\n",
              "      border: none;\n",
              "      border-radius: 50%;\n",
              "      cursor: pointer;\n",
              "      display: none;\n",
              "      fill: #1967D2;\n",
              "      height: 32px;\n",
              "      padding: 0 0 0 0;\n",
              "      width: 32px;\n",
              "    }\n",
              "\n",
              "    .colab-df-convert:hover {\n",
              "      background-color: #E2EBFA;\n",
              "      box-shadow: 0px 1px 2px rgba(60, 64, 67, 0.3), 0px 1px 3px 1px rgba(60, 64, 67, 0.15);\n",
              "      fill: #174EA6;\n",
              "    }\n",
              "\n",
              "    [theme=dark] .colab-df-convert {\n",
              "      background-color: #3B4455;\n",
              "      fill: #D2E3FC;\n",
              "    }\n",
              "\n",
              "    [theme=dark] .colab-df-convert:hover {\n",
              "      background-color: #434B5C;\n",
              "      box-shadow: 0px 1px 3px 1px rgba(0, 0, 0, 0.15);\n",
              "      filter: drop-shadow(0px 1px 2px rgba(0, 0, 0, 0.3));\n",
              "      fill: #FFFFFF;\n",
              "    }\n",
              "  </style>\n",
              "\n",
              "      <script>\n",
              "        const buttonEl =\n",
              "          document.querySelector('#df-49e63134-61c7-4c11-9bfb-b2bc16f2f437 button.colab-df-convert');\n",
              "        buttonEl.style.display =\n",
              "          google.colab.kernel.accessAllowed ? 'block' : 'none';\n",
              "\n",
              "        async function convertToInteractive(key) {\n",
              "          const element = document.querySelector('#df-49e63134-61c7-4c11-9bfb-b2bc16f2f437');\n",
              "          const dataTable =\n",
              "            await google.colab.kernel.invokeFunction('convertToInteractive',\n",
              "                                                     [key], {});\n",
              "          if (!dataTable) return;\n",
              "\n",
              "          const docLinkHtml = 'Like what you see? Visit the ' +\n",
              "            '<a target=\"_blank\" href=https://colab.research.google.com/notebooks/data_table.ipynb>data table notebook</a>'\n",
              "            + ' to learn more about interactive tables.';\n",
              "          element.innerHTML = '';\n",
              "          dataTable['output_type'] = 'display_data';\n",
              "          await google.colab.output.renderOutput(dataTable, element);\n",
              "          const docLink = document.createElement('div');\n",
              "          docLink.innerHTML = docLinkHtml;\n",
              "          element.appendChild(docLink);\n",
              "        }\n",
              "      </script>\n",
              "    </div>\n",
              "  </div>\n",
              "  "
            ]
          },
          "metadata": {},
          "execution_count": 42
        }
      ]
    },
    {
      "cell_type": "code",
      "source": [
        "import matplotlib.pyplot as plt\n",
        "import seaborn as sns\n",
        "\n",
        "# Convert df columns to numeric values\n",
        "market_depth = market_depth.apply(pd.to_numeric)\n",
        "\n",
        "fig, ax = plt.subplots()\n",
        "ax.set_title(\"ETHUSD Orderbook\")\n",
        "\n",
        "sns.ecdfplot(x=\"bid_price\", weights=\"bid_size\", stat=\"count\", complementary=True, data=market_depth, ax=ax, color='g')\n",
        "sns.ecdfplot(x=\"ask_price\", weights=\"ask_size\", stat=\"count\", data=market_depth, ax=ax, color='r')\n",
        "\n",
        "ax.set_xlabel(\"Price\")\n",
        "ax.set_ylabel(\"Amount\")"
      ],
      "metadata": {
        "colab": {
          "base_uri": "https://localhost:8080/",
          "height": 313
        },
        "id": "714P_3vRAZ7I",
        "outputId": "aab8329e-d774-4ea3-a53e-aadd6702cbf8"
      },
      "execution_count": null,
      "outputs": [
        {
          "output_type": "execute_result",
          "data": {
            "text/plain": [
              "Text(0, 0.5, 'Amount')"
            ]
          },
          "metadata": {},
          "execution_count": 45
        },
        {
          "output_type": "display_data",
          "data": {
            "text/plain": [
              "<Figure size 432x288 with 1 Axes>"
            ],
            "image/png": "[encoded data removed]"
          },
          "metadata": {
            "needs_background": "light"
          }
        }
      ]
    },
    {
      "cell_type": "markdown",
      "source": [
        "# Indices"
      ],
      "metadata": {
        "id": "J-AYeDA1BUbt"
      }
    },
    {
      "cell_type": "markdown",
      "source": [
        "## Last Price"
      ],
      "metadata": {
        "id": "h2fwwFaiB5dA"
      }
    },
    {
      "cell_type": "code",
      "source": [
        "last_price = requests.get(URL + 'last/index/NDX' + API_KEY).json()\n",
        "last_price"
      ],
      "metadata": {
        "colab": {
          "base_uri": "https://localhost:8080/"
        },
        "id": "c3bhNrW1_PgN",
        "outputId": "c14d176c-ed50-43c9-93ba-d1140ae87023"
      },
      "execution_count": null,
      "outputs": [
        {
          "output_type": "execute_result",
          "data": {
            "text/plain": [
              "{'symbol': 'NDX', 'price': 12044.043, 'timestamp': 1662488288057}"
            ]
          },
          "metadata": {},
          "execution_count": 46
        }
      ]
    },
    {
      "cell_type": "markdown",
      "source": [
        "## Market Aggregate"
      ],
      "metadata": {
        "id": "aiaGqC2HB6y2"
      }
    },
    {
      "cell_type": "code",
      "source": [
        "aggregate = pd.DataFrame(\n",
        "    requests.get(URL + 'agg/index/NDX/1week/2022-01-01/2022-09-05' + API_KEY).json()\n",
        "    ['results']\n",
        ")\n",
        "\n",
        "aggregate.tail()"
      ],
      "metadata": {
        "colab": {
          "base_uri": "https://localhost:8080/",
          "height": 206
        },
        "id": "DulA3bdwBhuz",
        "outputId": "11a52cf8-8506-4211-bdc0-d29ba55c3982"
      },
      "execution_count": null,
      "outputs": [
        {
          "output_type": "execute_result",
          "data": {
            "text/plain": [
              "              o            h            l            c            v  \\\n",
              "15  12877.04004  13326.71973  12809.00977  13207.69043  25041480000   \n",
              "16  13227.08984  13565.87012  12945.59961  13565.87012  26139090000   \n",
              "17  13529.66016  13720.91016  13210.82031  13242.90039  23859110000   \n",
              "18  13056.38965  13175.25000  12603.41016  12605.16992  20755470000   \n",
              "19  12488.45996  12594.33984  12012.98047  12098.44043  14216670000   \n",
              "\n",
              "                      t  \n",
              "15  2022-08-01T12:00:00  \n",
              "16  2022-08-08T12:00:00  \n",
              "17  2022-08-15T12:00:00  \n",
              "18  2022-08-22T12:00:00  \n",
              "19  2022-08-29T12:00:00  "
            ],
            "text/html": [
              "\n",
              "  <div id=\"df-d0228d74-7fa7-43e8-a28d-8453988a6e12\">\n",
              "    <div class=\"colab-df-container\">\n",
              "      <div>\n",
              "<style scoped>\n",
              "    .dataframe tbody tr th:only-of-type {\n",
              "        vertical-align: middle;\n",
              "    }\n",
              "\n",
              "    .dataframe tbody tr th {\n",
              "        vertical-align: top;\n",
              "    }\n",
              "\n",
              "    .dataframe thead th {\n",
              "        text-align: right;\n",
              "    }\n",
              "</style>\n",
              "<table border=\"1\" class=\"dataframe\">\n",
              "  <thead>\n",
              "    <tr style=\"text-align: right;\">\n",
              "      <th></th>\n",
              "      <th>o</th>\n",
              "      <th>h</th>\n",
              "      <th>l</th>\n",
              "      <th>c</th>\n",
              "      <th>v</th>\n",
              "      <th>t</th>\n",
              "    </tr>\n",
              "  </thead>\n",
              "  <tbody>\n",
              "    <tr>\n",
              "      <th>15</th>\n",
              "      <td>12877.04004</td>\n",
              "      <td>13326.71973</td>\n",
              "      <td>12809.00977</td>\n",
              "      <td>13207.69043</td>\n",
              "      <td>25041480000</td>\n",
              "      <td>2022-08-01T12:00:00</td>\n",
              "    </tr>\n",
              "    <tr>\n",
              "      <th>16</th>\n",
              "      <td>13227.08984</td>\n",
              "      <td>13565.87012</td>\n",
              "      <td>12945.59961</td>\n",
              "      <td>13565.87012</td>\n",
              "      <td>26139090000</td>\n",
              "      <td>2022-08-08T12:00:00</td>\n",
              "    </tr>\n",
              "    <tr>\n",
              "      <th>17</th>\n",
              "      <td>13529.66016</td>\n",
              "      <td>13720.91016</td>\n",
              "      <td>13210.82031</td>\n",
              "      <td>13242.90039</td>\n",
              "      <td>23859110000</td>\n",
              "      <td>2022-08-15T12:00:00</td>\n",
              "    </tr>\n",
              "    <tr>\n",
              "      <th>18</th>\n",
              "      <td>13056.38965</td>\n",
              "      <td>13175.25000</td>\n",
              "      <td>12603.41016</td>\n",
              "      <td>12605.16992</td>\n",
              "      <td>20755470000</td>\n",
              "      <td>2022-08-22T12:00:00</td>\n",
              "    </tr>\n",
              "    <tr>\n",
              "      <th>19</th>\n",
              "      <td>12488.45996</td>\n",
              "      <td>12594.33984</td>\n",
              "      <td>12012.98047</td>\n",
              "      <td>12098.44043</td>\n",
              "      <td>14216670000</td>\n",
              "      <td>2022-08-29T12:00:00</td>\n",
              "    </tr>\n",
              "  </tbody>\n",
              "</table>\n",
              "</div>\n",
              "      <button class=\"colab-df-convert\" onclick=\"convertToInteractive('df-d0228d74-7fa7-43e8-a28d-8453988a6e12')\"\n",
              "              title=\"Convert this dataframe to an interactive table.\"\n",
              "              style=\"display:none;\">\n",
              "        \n",
              "  <svg xmlns=\"http://www.w3.org/2000/svg\" height=\"24px\"viewBox=\"0 0 24 24\"\n",
              "       width=\"24px\">\n",
              "    <path d=\"M0 0h24v24H0V0z\" fill=\"none\"/>\n",
              "    <path d=\"M18.56 5.44l.94 2.06.94-2.06 2.06-.94-2.06-.94-.94-2.06-.94 2.06-2.06.94zm-11 1L8.5 8.5l.94-2.06 2.06-.94-2.06-.94L8.5 2.5l-.94 2.06-2.06.94zm10 10l.94 2.06.94-2.06 2.06-.94-2.06-.94-.94-2.06-.94 2.06-2.06.94z\"/><path d=\"M17.41 7.96l-1.37-1.37c-.4-.4-.92-.59-1.43-.59-.52 0-1.04.2-1.43.59L10.3 9.45l-7.72 7.72c-.78.78-.78 2.05 0 2.83L4 21.41c.39.39.9.59 1.41.59.51 0 1.02-.2 1.41-.59l7.78-7.78 2.81-2.81c.8-.78.8-2.07 0-2.86zM5.41 20L4 18.59l7.72-7.72 1.47 1.35L5.41 20z\"/>\n",
              "  </svg>\n",
              "      </button>\n",
              "      \n",
              "  <style>\n",
              "    .colab-df-container {\n",
              "      display:flex;\n",
              "      flex-wrap:wrap;\n",
              "      gap: 12px;\n",
              "    }\n",
              "\n",
              "    .colab-df-convert {\n",
              "      background-color: #E8F0FE;\n",
              "      border: none;\n",
              "      border-radius: 50%;\n",
              "      cursor: pointer;\n",
              "      display: none;\n",
              "      fill: #1967D2;\n",
              "      height: 32px;\n",
              "      padding: 0 0 0 0;\n",
              "      width: 32px;\n",
              "    }\n",
              "\n",
              "    .colab-df-convert:hover {\n",
              "      background-color: #E2EBFA;\n",
              "      box-shadow: 0px 1px 2px rgba(60, 64, 67, 0.3), 0px 1px 3px 1px rgba(60, 64, 67, 0.15);\n",
              "      fill: #174EA6;\n",
              "    }\n",
              "\n",
              "    [theme=dark] .colab-df-convert {\n",
              "      background-color: #3B4455;\n",
              "      fill: #D2E3FC;\n",
              "    }\n",
              "\n",
              "    [theme=dark] .colab-df-convert:hover {\n",
              "      background-color: #434B5C;\n",
              "      box-shadow: 0px 1px 3px 1px rgba(0, 0, 0, 0.15);\n",
              "      filter: drop-shadow(0px 1px 2px rgba(0, 0, 0, 0.3));\n",
              "      fill: #FFFFFF;\n",
              "    }\n",
              "  </style>\n",
              "\n",
              "      <script>\n",
              "        const buttonEl =\n",
              "          document.querySelector('#df-d0228d74-7fa7-43e8-a28d-8453988a6e12 button.colab-df-convert');\n",
              "        buttonEl.style.display =\n",
              "          google.colab.kernel.accessAllowed ? 'block' : 'none';\n",
              "\n",
              "        async function convertToInteractive(key) {\n",
              "          const element = document.querySelector('#df-d0228d74-7fa7-43e8-a28d-8453988a6e12');\n",
              "          const dataTable =\n",
              "            await google.colab.kernel.invokeFunction('convertToInteractive',\n",
              "                                                     [key], {});\n",
              "          if (!dataTable) return;\n",
              "\n",
              "          const docLinkHtml = 'Like what you see? Visit the ' +\n",
              "            '<a target=\"_blank\" href=https://colab.research.google.com/notebooks/data_table.ipynb>data table notebook</a>'\n",
              "            + ' to learn more about interactive tables.';\n",
              "          element.innerHTML = '';\n",
              "          dataTable['output_type'] = 'display_data';\n",
              "          await google.colab.output.renderOutput(dataTable, element);\n",
              "          const docLink = document.createElement('div');\n",
              "          docLink.innerHTML = docLinkHtml;\n",
              "          element.appendChild(docLink);\n",
              "        }\n",
              "      </script>\n",
              "    </div>\n",
              "  </div>\n",
              "  "
            ]
          },
          "metadata": {},
          "execution_count": 50
        }
      ]
    },
    {
      "cell_type": "code",
      "source": [
        "import plotly.graph_objects as go\n",
        "\n",
        "aggregate.set_index('t', inplace=True)\n",
        "\n",
        "fig = go.Figure(data=[go.Candlestick(x = aggregate.index,\n",
        "                                    open = aggregate['o'],\n",
        "                                    high = aggregate['h'],\n",
        "                                    low = aggregate['l'],\n",
        "                                    close = aggregate['c']\n",
        "                                    )\n",
        "                      ]\n",
        "                )\n",
        "\n",
        "\n",
        "fig.show()"
      ],
      "metadata": {
        "colab": {
          "base_uri": "https://localhost:8080/",
          "height": 542
        },
        "id": "Ljh7YSvrCZDu",
        "outputId": "1b125d0f-7da0-4535-ceff-b94e07fc84a0"
      },
      "execution_count": null,
      "outputs": [
        {
          "output_type": "display_data",
          "data": {
            "text/html": [
              "<html>\n",
              "<head><meta charset=\"utf-8\" /></head>\n",
              "<body>\n",
              "    <div>            <script src=\"https://cdnjs.cloudflare.com/ajax/libs/mathjax/2.7.5/MathJax.js?config=TeX-AMS-MML_SVG\"></script><script type=\"text/javascript\">if (window.MathJax) {MathJax.Hub.Config({SVG: {font: \"STIX-Web\"}});}</script>                <script type=\"text/javascript\">window.PlotlyConfig = {MathJaxConfig: 'local'};</script>\n",
              "        <script src=\"https://cdn.plot.ly/plotly-2.8.3.min.js\"></script>                <div id=\"d6c011c8-5c1d-41c5-aa97-04ea6015ad4d\" class=\"plotly-graph-div\" style=\"height:525px; width:100%;\"></div>            <script type=\"text/javascript\">                                    window.PLOTLYENV=window.PLOTLYENV || {};                                    if (document.getElementById(\"d6c011c8-5c1d-41c5-aa97-04ea6015ad4d\")) {                    Plotly.newPlot(                        \"d6c011c8-5c1d-41c5-aa97-04ea6015ad4d\",                        [{\"close\":[\"13356.87012\",\"12854.79980\",\"12693.53027\",\"12387.40039\",\"11835.62012\",\"12681.41992\",\"12548.03027\",\"11832.82031\",\"11265.99023\",\"12105.84961\",\"11585.67969\",\"12125.69043\",\"11983.62012\",\"12396.46973\",\"12947.96973\",\"13207.69043\",\"13565.87012\",\"13242.90039\",\"12605.16992\",\"12098.44043\"],\"high\":[\"14277.20996\",\"13542.55957\",\"13556.66992\",\"12542.32031\",\"12572.99023\",\"12682.58008\",\"12897.62988\",\"12804.45996\",\"11751.29004\",\"12112.82031\",\"12175.98047\",\"12179.32031\",\"12026.05957\",\"12662.86035\",\"12986.63965\",\"13326.71973\",\"13565.87012\",\"13720.91016\",\"13175.25000\",\"12594.33984\"],\"low\":[\"13342.79004\",\"12835.48047\",\"12522.76953\",\"11692.12012\",\"11492.29004\",\"11576.11035\",\"12447.76953\",\"11825.34961\",\"11037.20996\",\"11423.20020\",\"11322.86035\",\"11366.07031\",\"11488.26953\",\"11836.51953\",\"12051.20996\",\"12809.00977\",\"12945.59961\",\"13210.82031\",\"12603.41016\",\"12012.98047\"],\"open\":[\"13859.46973\",\"13275.41016\",\"12864.83008\",\"12465.91016\",\"12297.07031\",\"11867.08008\",\"12688.95020\",\"12745.88965\",\"11472.19043\",\"11446.98047\",\"12157.92969\",\"11419.33984\",\"12008.75977\",\"12089.67969\",\"12391.20996\",\"12877.04004\",\"13227.08984\",\"13529.66016\",\"13056.38965\",\"12488.45996\"],\"x\":[\"2022-04-18T12:00:00\",\"2022-04-25T12:00:00\",\"2022-05-02T12:00:00\",\"2022-05-09T12:00:00\",\"2022-05-16T12:00:00\",\"2022-05-23T12:00:00\",\"2022-05-30T12:00:00\",\"2022-06-06T12:00:00\",\"2022-06-13T12:00:00\",\"2022-06-20T12:00:00\",\"2022-06-27T12:00:00\",\"2022-07-04T12:00:00\",\"2022-07-11T12:00:00\",\"2022-07-18T12:00:00\",\"2022-07-25T12:00:00\",\"2022-08-01T12:00:00\",\"2022-08-08T12:00:00\",\"2022-08-15T12:00:00\",\"2022-08-22T12:00:00\",\"2022-08-29T12:00:00\"],\"type\":\"candlestick\"}],                        {\"template\":{\"data\":{\"bar\":[{\"error_x\":{\"color\":\"#2a3f5f\"},\"error_y\":{\"color\":\"#2a3f5f\"},\"marker\":{\"line\":{\"color\":\"#E5ECF6\",\"width\":0.5},\"pattern\":{\"fillmode\":\"overlay\",\"size\":10,\"solidity\":0.2}},\"type\":\"bar\"}],\"barpolar\":[{\"marker\":{\"line\":{\"color\":\"#E5ECF6\",\"width\":0.5},\"pattern\":{\"fillmode\":\"overlay\",\"size\":10,\"solidity\":0.2}},\"type\":\"barpolar\"}],\"carpet\":[{\"aaxis\":{\"endlinecolor\":\"#2a3f5f\",\"gridcolor\":\"white\",\"linecolor\":\"white\",\"minorgridcolor\":\"white\",\"startlinecolor\":\"#2a3f5f\"},\"baxis\":{\"endlinecolor\":\"#2a3f5f\",\"gridcolor\":\"white\",\"linecolor\":\"white\",\"minorgridcolor\":\"white\",\"startlinecolor\":\"#2a3f5f\"},\"type\":\"carpet\"}],\"choropleth\":[{\"colorbar\":{\"outlinewidth\":0,\"ticks\":\"\"},\"type\":\"choropleth\"}],\"contour\":[{\"colorbar\":{\"outlinewidth\":0,\"ticks\":\"\"},\"colorscale\":[[0.0,\"#0d0887\"],[0.1111111111111111,\"#46039f\"],[0.2222222222222222,\"#7201a8\"],[0.3333333333333333,\"#9c179e\"],[0.4444444444444444,\"#bd3786\"],[0.5555555555555556,\"#d8576b\"],[0.6666666666666666,\"#ed7953\"],[0.7777777777777778,\"#fb9f3a\"],[0.8888888888888888,\"#fdca26\"],[1.0,\"#f0f921\"]],\"type\":\"contour\"}],\"contourcarpet\":[{\"colorbar\":{\"outlinewidth\":0,\"ticks\":\"\"},\"type\":\"contourcarpet\"}],\"heatmap\":[{\"colorbar\":{\"outlinewidth\":0,\"ticks\":\"\"},\"colorscale\":[[0.0,\"#0d0887\"],[0.1111111111111111,\"#46039f\"],[0.2222222222222222,\"#7201a8\"],[0.3333333333333333,\"#9c179e\"],[0.4444444444444444,\"#bd3786\"],[0.5555555555555556,\"#d8576b\"],[0.6666666666666666,\"#ed7953\"],[0.7777777777777778,\"#fb9f3a\"],[0.8888888888888888,\"#fdca26\"],[1.0,\"#f0f921\"]],\"type\":\"heatmap\"}],\"heatmapgl\":[{\"colorbar\":{\"outlinewidth\":0,\"ticks\":\"\"},\"colorscale\":[[0.0,\"#0d0887\"],[0.1111111111111111,\"#46039f\"],[0.2222222222222222,\"#7201a8\"],[0.3333333333333333,\"#9c179e\"],[0.4444444444444444,\"#bd3786\"],[0.5555555555555556,\"#d8576b\"],[0.6666666666666666,\"#ed7953\"],[0.7777777777777778,\"#fb9f3a\"],[0.8888888888888888,\"#fdca26\"],[1.0,\"#f0f921\"]],\"type\":\"heatmapgl\"}],\"histogram\":[{\"marker\":{\"pattern\":{\"fillmode\":\"overlay\",\"size\":10,\"solidity\":0.2}},\"type\":\"histogram\"}],\"histogram2d\":[{\"colorbar\":{\"outlinewidth\":0,\"ticks\":\"\"},\"colorscale\":[[0.0,\"#0d0887\"],[0.1111111111111111,\"#46039f\"],[0.2222222222222222,\"#7201a8\"],[0.3333333333333333,\"#9c179e\"],[0.4444444444444444,\"#bd3786\"],[0.5555555555555556,\"#d8576b\"],[0.6666666666666666,\"#ed7953\"],[0.7777777777777778,\"#fb9f3a\"],[0.8888888888888888,\"#fdca26\"],[1.0,\"#f0f921\"]],\"type\":\"histogram2d\"}],\"histogram2dcontour\":[{\"colorbar\":{\"outlinewidth\":0,\"ticks\":\"\"},\"colorscale\":[[0.0,\"#0d0887\"],[0.1111111111111111,\"#46039f\"],[0.2222222222222222,\"#7201a8\"],[0.3333333333333333,\"#9c179e\"],[0.4444444444444444,\"#bd3786\"],[0.5555555555555556,\"#d8576b\"],[0.6666666666666666,\"#ed7953\"],[0.7777777777777778,\"#fb9f3a\"],[0.8888888888888888,\"#fdca26\"],[1.0,\"#f0f921\"]],\"type\":\"histogram2dcontour\"}],\"mesh3d\":[{\"colorbar\":{\"outlinewidth\":0,\"ticks\":\"\"},\"type\":\"mesh3d\"}],\"parcoords\":[{\"line\":{\"colorbar\":{\"outlinewidth\":0,\"ticks\":\"\"}},\"type\":\"parcoords\"}],\"pie\":[{\"automargin\":true,\"type\":\"pie\"}],\"scatter\":[{\"marker\":{\"colorbar\":{\"outlinewidth\":0,\"ticks\":\"\"}},\"type\":\"scatter\"}],\"scatter3d\":[{\"line\":{\"colorbar\":{\"outlinewidth\":0,\"ticks\":\"\"}},\"marker\":{\"colorbar\":{\"outlinewidth\":0,\"ticks\":\"\"}},\"type\":\"scatter3d\"}],\"scattercarpet\":[{\"marker\":{\"colorbar\":{\"outlinewidth\":0,\"ticks\":\"\"}},\"type\":\"scattercarpet\"}],\"scattergeo\":[{\"marker\":{\"colorbar\":{\"outlinewidth\":0,\"ticks\":\"\"}},\"type\":\"scattergeo\"}],\"scattergl\":[{\"marker\":{\"colorbar\":{\"outlinewidth\":0,\"ticks\":\"\"}},\"type\":\"scattergl\"}],\"scattermapbox\":[{\"marker\":{\"colorbar\":{\"outlinewidth\":0,\"ticks\":\"\"}},\"type\":\"scattermapbox\"}],\"scatterpolar\":[{\"marker\":{\"colorbar\":{\"outlinewidth\":0,\"ticks\":\"\"}},\"type\":\"scatterpolar\"}],\"scatterpolargl\":[{\"marker\":{\"colorbar\":{\"outlinewidth\":0,\"ticks\":\"\"}},\"type\":\"scatterpolargl\"}],\"scatterternary\":[{\"marker\":{\"colorbar\":{\"outlinewidth\":0,\"ticks\":\"\"}},\"type\":\"scatterternary\"}],\"surface\":[{\"colorbar\":{\"outlinewidth\":0,\"ticks\":\"\"},\"colorscale\":[[0.0,\"#0d0887\"],[0.1111111111111111,\"#46039f\"],[0.2222222222222222,\"#7201a8\"],[0.3333333333333333,\"#9c179e\"],[0.4444444444444444,\"#bd3786\"],[0.5555555555555556,\"#d8576b\"],[0.6666666666666666,\"#ed7953\"],[0.7777777777777778,\"#fb9f3a\"],[0.8888888888888888,\"#fdca26\"],[1.0,\"#f0f921\"]],\"type\":\"surface\"}],\"table\":[{\"cells\":{\"fill\":{\"color\":\"#EBF0F8\"},\"line\":{\"color\":\"white\"}},\"header\":{\"fill\":{\"color\":\"#C8D4E3\"},\"line\":{\"color\":\"white\"}},\"type\":\"table\"}]},\"layout\":{\"annotationdefaults\":{\"arrowcolor\":\"#2a3f5f\",\"arrowhead\":0,\"arrowwidth\":1},\"autotypenumbers\":\"strict\",\"coloraxis\":{\"colorbar\":{\"outlinewidth\":0,\"ticks\":\"\"}},\"colorscale\":{\"diverging\":[[0,\"#8e0152\"],[0.1,\"#c51b7d\"],[0.2,\"#de77ae\"],[0.3,\"#f1b6da\"],[0.4,\"#fde0ef\"],[0.5,\"#f7f7f7\"],[0.6,\"#e6f5d0\"],[0.7,\"#b8e186\"],[0.8,\"#7fbc41\"],[0.9,\"#4d9221\"],[1,\"#276419\"]],\"sequential\":[[0.0,\"#0d0887\"],[0.1111111111111111,\"#46039f\"],[0.2222222222222222,\"#7201a8\"],[0.3333333333333333,\"#9c179e\"],[0.4444444444444444,\"#bd3786\"],[0.5555555555555556,\"#d8576b\"],[0.6666666666666666,\"#ed7953\"],[0.7777777777777778,\"#fb9f3a\"],[0.8888888888888888,\"#fdca26\"],[1.0,\"#f0f921\"]],\"sequentialminus\":[[0.0,\"#0d0887\"],[0.1111111111111111,\"#46039f\"],[0.2222222222222222,\"#7201a8\"],[0.3333333333333333,\"#9c179e\"],[0.4444444444444444,\"#bd3786\"],[0.5555555555555556,\"#d8576b\"],[0.6666666666666666,\"#ed7953\"],[0.7777777777777778,\"#fb9f3a\"],[0.8888888888888888,\"#fdca26\"],[1.0,\"#f0f921\"]]},\"colorway\":[\"#636efa\",\"#EF553B\",\"#00cc96\",\"#ab63fa\",\"#FFA15A\",\"#19d3f3\",\"#FF6692\",\"#B6E880\",\"#FF97FF\",\"#FECB52\"],\"font\":{\"color\":\"#2a3f5f\"},\"geo\":{\"bgcolor\":\"white\",\"lakecolor\":\"white\",\"landcolor\":\"#E5ECF6\",\"showlakes\":true,\"showland\":true,\"subunitcolor\":\"white\"},\"hoverlabel\":{\"align\":\"left\"},\"hovermode\":\"closest\",\"mapbox\":{\"style\":\"light\"},\"paper_bgcolor\":\"white\",\"plot_bgcolor\":\"#E5ECF6\",\"polar\":{\"angularaxis\":{\"gridcolor\":\"white\",\"linecolor\":\"white\",\"ticks\":\"\"},\"bgcolor\":\"#E5ECF6\",\"radialaxis\":{\"gridcolor\":\"white\",\"linecolor\":\"white\",\"ticks\":\"\"}},\"scene\":{\"xaxis\":{\"backgroundcolor\":\"#E5ECF6\",\"gridcolor\":\"white\",\"gridwidth\":2,\"linecolor\":\"white\",\"showbackground\":true,\"ticks\":\"\",\"zerolinecolor\":\"white\"},\"yaxis\":{\"backgroundcolor\":\"#E5ECF6\",\"gridcolor\":\"white\",\"gridwidth\":2,\"linecolor\":\"white\",\"showbackground\":true,\"ticks\":\"\",\"zerolinecolor\":\"white\"},\"zaxis\":{\"backgroundcolor\":\"#E5ECF6\",\"gridcolor\":\"white\",\"gridwidth\":2,\"linecolor\":\"white\",\"showbackground\":true,\"ticks\":\"\",\"zerolinecolor\":\"white\"}},\"shapedefaults\":{\"line\":{\"color\":\"#2a3f5f\"}},\"ternary\":{\"aaxis\":{\"gridcolor\":\"white\",\"linecolor\":\"white\",\"ticks\":\"\"},\"baxis\":{\"gridcolor\":\"white\",\"linecolor\":\"white\",\"ticks\":\"\"},\"bgcolor\":\"#E5ECF6\",\"caxis\":{\"gridcolor\":\"white\",\"linecolor\":\"white\",\"ticks\":\"\"}},\"title\":{\"x\":0.05},\"xaxis\":{\"automargin\":true,\"gridcolor\":\"white\",\"linecolor\":\"white\",\"ticks\":\"\",\"title\":{\"standoff\":15},\"zerolinecolor\":\"white\",\"zerolinewidth\":2},\"yaxis\":{\"automargin\":true,\"gridcolor\":\"white\",\"linecolor\":\"white\",\"ticks\":\"\",\"title\":{\"standoff\":15},\"zerolinecolor\":\"white\",\"zerolinewidth\":2}}}},                        {\"responsive\": true}                    ).then(function(){\n",
              "                            \n",
              "var gd = document.getElementById('d6c011c8-5c1d-41c5-aa97-04ea6015ad4d');\n",
              "var x = new MutationObserver(function (mutations, observer) {{\n",
              "        var display = window.getComputedStyle(gd).display;\n",
              "        if (!display || display === 'none') {{\n",
              "            console.log([gd, 'removed!']);\n",
              "            Plotly.purge(gd);\n",
              "            observer.disconnect();\n",
              "        }}\n",
              "}});\n",
              "\n",
              "// Listen for the removal of the full notebook cells\n",
              "var notebookContainer = gd.closest('#notebook-container');\n",
              "if (notebookContainer) {{\n",
              "    x.observe(notebookContainer, {childList: true});\n",
              "}}\n",
              "\n",
              "// Listen for the clearing of the current output cell\n",
              "var outputEl = gd.closest('.output');\n",
              "if (outputEl) {{\n",
              "    x.observe(outputEl, {childList: true});\n",
              "}}\n",
              "\n",
              "                        })                };                            </script>        </div>\n",
              "</body>\n",
              "</html>"
            ]
          },
          "metadata": {}
        }
      ]
    },
    {
      "cell_type": "markdown",
      "source": [
        "# ETFs"
      ],
      "metadata": {
        "id": "Utf_PHmmEEDS"
      }
    },
    {
      "cell_type": "code",
      "source": [
        "last_price = requests.get(URL + 'last/etf/QQQ' + API_KEY).json()\n",
        "last_price"
      ],
      "metadata": {
        "colab": {
          "base_uri": "https://localhost:8080/"
        },
        "id": "4C5GgecTEEzA",
        "outputId": "4289602f-33aa-4b85-d98c-0702bd2ece5f"
      },
      "execution_count": null,
      "outputs": [
        {
          "output_type": "execute_result",
          "data": {
            "text/plain": [
              "{'symbol': 'QQQ', 'price': 293.66, 'timestamp': 1662489020066}"
            ]
          },
          "metadata": {},
          "execution_count": 53
        }
      ]
    },
    {
      "cell_type": "markdown",
      "source": [
        "# LSE"
      ],
      "metadata": {
        "id": "MRpNDHGvFViw"
      }
    },
    {
      "cell_type": "code",
      "source": [
        "last_price = requests.get(URL + 'last/stock/uk/JET' + API_KEY).json()\n",
        "last_price"
      ],
      "metadata": {
        "colab": {
          "base_uri": "https://localhost:8080/"
        },
        "id": "6N91hTdOEUN9",
        "outputId": "d3134c4c-c2ef-448c-c9c9-acdc056200f7"
      },
      "execution_count": null,
      "outputs": [
        {
          "output_type": "execute_result",
          "data": {
            "text/plain": [
              "{'symbol': 'JET', 'price': 1375.6, 'timestamp': 1662489337776}"
            ]
          },
          "metadata": {},
          "execution_count": 56
        }
      ]
    },
    {
      "cell_type": "markdown",
      "source": [
        "# Indian Market Data"
      ],
      "metadata": {
        "id": "JwWFQhnzGCeB"
      }
    },
    {
      "cell_type": "code",
      "source": [
        "last_price = requests.get(URL + 'last/stock/in/TATAPOWER' + API_KEY).json()\n",
        "last_price"
      ],
      "metadata": {
        "colab": {
          "base_uri": "https://localhost:8080/"
        },
        "id": "NDHrOfRkGD7d",
        "outputId": "d0b8c7d6-28be-403a-fc4c-6298bb30a40f"
      },
      "execution_count": null,
      "outputs": [
        {
          "output_type": "execute_result",
          "data": {
            "text/plain": [
              "{'symbol': 'TATAPOWER', 'price': 247.5, 'timestamp': 1662489486775}"
            ]
          },
          "metadata": {},
          "execution_count": 57
        }
      ]
    },
    {
      "cell_type": "markdown",
      "source": [
        "# Canada Market Data"
      ],
      "metadata": {
        "id": "fDqwM7ZWGa67"
      }
    },
    {
      "cell_type": "code",
      "source": [
        "last_price = requests.get(URL + 'last/stock/canada/SHOP' + API_KEY).json()\n",
        "last_price"
      ],
      "metadata": {
        "colab": {
          "base_uri": "https://localhost:8080/"
        },
        "id": "OQWbn8whGGKw",
        "outputId": "e3067c0f-695f-4d75-8de0-ce5f9f6444fe"
      },
      "execution_count": null,
      "outputs": [
        {
          "output_type": "execute_result",
          "data": {
            "text/plain": [
              "{'symbol': 'SHOP', 'price': 39.81, 'timestamp': 1662489611626}"
            ]
          },
          "metadata": {},
          "execution_count": 59
        }
      ]
    },
    {
      "cell_type": "markdown",
      "source": [
        "# MOEX"
      ],
      "metadata": {
        "id": "sB70BuxEG75Y"
      }
    },
    {
      "cell_type": "code",
      "source": [
        "last_price = requests.get(URL + 'last/stock/moex/AFKS' + API_KEY).json()\n",
        "last_price"
      ],
      "metadata": {
        "colab": {
          "base_uri": "https://localhost:8080/"
        },
        "id": "gyXhoVTSGfLU",
        "outputId": "8ec6d720-e474-4a0a-b011-c75e5a5ed487"
      },
      "execution_count": null,
      "outputs": [
        {
          "output_type": "execute_result",
          "data": {
            "text/plain": [
              "{'symbol': 'AFKS', 'price': 14.94, 'timestamp': 1662489725595}"
            ]
          },
          "metadata": {},
          "execution_count": 61
        }
      ]
    },
    {
      "cell_type": "markdown",
      "source": [
        "# Bonds"
      ],
      "metadata": {
        "id": "blLbuWZrHZAA"
      }
    },
    {
      "cell_type": "code",
      "source": [
        "last_rate = requests.get(URL + 'bonds/us/rate/DGS1' + API_KEY).json()\n",
        "last_rate"
      ],
      "metadata": {
        "colab": {
          "base_uri": "https://localhost:8080/"
        },
        "id": "1jIov1PRHYxp",
        "outputId": "3804ab72-1feb-4e86-ba27-03a7c9c3e0c9"
      },
      "execution_count": null,
      "outputs": [
        {
          "output_type": "execute_result",
          "data": {
            "text/plain": [
              "{'symbol': 'DGS1', 'value': 3.51, 'date': '2022-09-05'}"
            ]
          },
          "metadata": {},
          "execution_count": 62
        }
      ]
    },
    {
      "cell_type": "markdown",
      "source": [
        "# Fundamentals"
      ],
      "metadata": {
        "id": "pXgjDvM7H8MN"
      }
    },
    {
      "cell_type": "code",
      "source": [
        "btc_news = pd.DataFrame(requests.get(URL + 'news/cryptocurrency/BTC' + API_KEY).json()['news'])\n",
        "btc_news"
      ],
      "metadata": {
        "colab": {
          "base_uri": "https://localhost:8080/",
          "height": 363
        },
        "id": "XA_2xRp4G_ui",
        "outputId": "c2033fe1-c0b1-43ab-e429-67141cde1cba"
      },
      "execution_count": null,
      "outputs": [
        {
          "output_type": "execute_result",
          "data": {
            "text/plain": [
              "                   source                                              title  \\\n",
              "0            Crypto Daily  Bitcoin Price Analysis: Bears Still Prevailing...   \n",
              "1            Crypto Daily  The Rise of Cloud Computing as the Future of C...   \n",
              "2             CryptoSlate  Crypto whale alleged to be Saylor sent over 20...   \n",
              "3             CryptoSlate  Research: Bitcoin exchange inflows sink to mul...   \n",
              "4              Cryptonews  BTC Mining Pool Poolin Suspends Wallet Withdra...   \n",
              "5              Cryptonews  World Vision Becomes First South Korean Charit...   \n",
              "6           INVESTORPLACE  7 Cryptos for Investors to Take Seriously in 2022   \n",
              "7           INVESTORPLACE   COIN Stock Falls as Crypto Winter Slams Coinbase   \n",
              "8  The Currency Analytics  MicroStrategy Inc Believe in Bitcoin (BTC) Des...   \n",
              "9  The Currency Analytics  Long-Term BTC has Outperformed Inflation by Ma...   \n",
              "\n",
              "                                         description  \\\n",
              "0  BTC/USD Downside Risks Prevailing: Sally Ho’s ...   \n",
              "1  One of the most important and prominent proces...   \n",
              "2                                                      \n",
              "3                                                      \n",
              "4  The bitcoin (BTC) mining pool Poolin’s wallet ...   \n",
              "5  \\The South Korean arm of the charitable organi...   \n",
              "6  Investors looking for cryptos to buy should fo...   \n",
              "7  Shares of the crypto exchange COIN stock are t...   \n",
              "8  MicroStrategy Incorporated is an American Comp...   \n",
              "9  Inflation across the world is not a great news...   \n",
              "\n",
              "                                                 url                      date  \n",
              "0  https://cryptodaily.co.uk/2022/09/bitcoin-pric...  2022-09-06T18:50:06.567Z  \n",
              "1  https://cryptodaily.co.uk/2022/09/the-rise-of-...  2022-09-06T18:50:06.567Z  \n",
              "2  https://cryptoslate.com/crypto-whale-sends-ove...  2022-09-06T18:50:06.006Z  \n",
              "3  https://cryptoslate.com/bitcoin-exchange-inflo...  2022-09-06T18:50:05.969Z  \n",
              "4  /news/btc-mining-pool-poolin-suspends-wallet-w...  2022-09-06T17:23:00.000Z  \n",
              "5  /news/world-vision-becomes-first-south-korean-...  2022-09-06T17:18:00.000Z  \n",
              "6  https://investorplace.com/2022/08/7-cryptos-to...  2022-08-30T00:00:00.000Z  \n",
              "7  https://investorplace.com/2022/08/coin-stock-f...  2022-08-10T00:00:00.000Z  \n",
              "8  https://thecurrencyanalytics.com/bitcoin/micro...  2022-07-19T00:00:00.000Z  \n",
              "9  https://thecurrencyanalytics.com/bitcoin/long-...  2022-07-16T00:00:00.000Z  "
            ],
            "text/html": [
              "\n",
              "  <div id=\"df-cf90eb9a-c60c-4436-bfd9-f8fb72934f07\">\n",
              "    <div class=\"colab-df-container\">\n",
              "      <div>\n",
              "<style scoped>\n",
              "    .dataframe tbody tr th:only-of-type {\n",
              "        vertical-align: middle;\n",
              "    }\n",
              "\n",
              "    .dataframe tbody tr th {\n",
              "        vertical-align: top;\n",
              "    }\n",
              "\n",
              "    .dataframe thead th {\n",
              "        text-align: right;\n",
              "    }\n",
              "</style>\n",
              "<table border=\"1\" class=\"dataframe\">\n",
              "  <thead>\n",
              "    <tr style=\"text-align: right;\">\n",
              "      <th></th>\n",
              "      <th>source</th>\n",
              "      <th>title</th>\n",
              "      <th>description</th>\n",
              "      <th>url</th>\n",
              "      <th>date</th>\n",
              "    </tr>\n",
              "  </thead>\n",
              "  <tbody>\n",
              "    <tr>\n",
              "      <th>0</th>\n",
              "      <td>Crypto Daily</td>\n",
              "      <td>Bitcoin Price Analysis: Bears Still Prevailing...</td>\n",
              "      <td>BTC/USD Downside Risks Prevailing: Sally Ho’s ...</td>\n",
              "      <td>https://cryptodaily.co.uk/2022/09/bitcoin-pric...</td>\n",
              "      <td>2022-09-06T18:50:06.567Z</td>\n",
              "    </tr>\n",
              "    <tr>\n",
              "      <th>1</th>\n",
              "      <td>Crypto Daily</td>\n",
              "      <td>The Rise of Cloud Computing as the Future of C...</td>\n",
              "      <td>One of the most important and prominent proces...</td>\n",
              "      <td>https://cryptodaily.co.uk/2022/09/the-rise-of-...</td>\n",
              "      <td>2022-09-06T18:50:06.567Z</td>\n",
              "    </tr>\n",
              "    <tr>\n",
              "      <th>2</th>\n",
              "      <td>CryptoSlate</td>\n",
              "      <td>Crypto whale alleged to be Saylor sent over 20...</td>\n",
              "      <td></td>\n",
              "      <td>https://cryptoslate.com/crypto-whale-sends-ove...</td>\n",
              "      <td>2022-09-06T18:50:06.006Z</td>\n",
              "    </tr>\n",
              "    <tr>\n",
              "      <th>3</th>\n",
              "      <td>CryptoSlate</td>\n",
              "      <td>Research: Bitcoin exchange inflows sink to mul...</td>\n",
              "      <td></td>\n",
              "      <td>https://cryptoslate.com/bitcoin-exchange-inflo...</td>\n",
              "      <td>2022-09-06T18:50:05.969Z</td>\n",
              "    </tr>\n",
              "    <tr>\n",
              "      <th>4</th>\n",
              "      <td>Cryptonews</td>\n",
              "      <td>BTC Mining Pool Poolin Suspends Wallet Withdra...</td>\n",
              "      <td>The bitcoin (BTC) mining pool Poolin’s wallet ...</td>\n",
              "      <td>/news/btc-mining-pool-poolin-suspends-wallet-w...</td>\n",
              "      <td>2022-09-06T17:23:00.000Z</td>\n",
              "    </tr>\n",
              "    <tr>\n",
              "      <th>5</th>\n",
              "      <td>Cryptonews</td>\n",
              "      <td>World Vision Becomes First South Korean Charit...</td>\n",
              "      <td>\\The South Korean arm of the charitable organi...</td>\n",
              "      <td>/news/world-vision-becomes-first-south-korean-...</td>\n",
              "      <td>2022-09-06T17:18:00.000Z</td>\n",
              "    </tr>\n",
              "    <tr>\n",
              "      <th>6</th>\n",
              "      <td>INVESTORPLACE</td>\n",
              "      <td>7 Cryptos for Investors to Take Seriously in 2022</td>\n",
              "      <td>Investors looking for cryptos to buy should fo...</td>\n",
              "      <td>https://investorplace.com/2022/08/7-cryptos-to...</td>\n",
              "      <td>2022-08-30T00:00:00.000Z</td>\n",
              "    </tr>\n",
              "    <tr>\n",
              "      <th>7</th>\n",
              "      <td>INVESTORPLACE</td>\n",
              "      <td>COIN Stock Falls as Crypto Winter Slams Coinbase</td>\n",
              "      <td>Shares of the crypto exchange COIN stock are t...</td>\n",
              "      <td>https://investorplace.com/2022/08/coin-stock-f...</td>\n",
              "      <td>2022-08-10T00:00:00.000Z</td>\n",
              "    </tr>\n",
              "    <tr>\n",
              "      <th>8</th>\n",
              "      <td>The Currency Analytics</td>\n",
              "      <td>MicroStrategy Inc Believe in Bitcoin (BTC) Des...</td>\n",
              "      <td>MicroStrategy Incorporated is an American Comp...</td>\n",
              "      <td>https://thecurrencyanalytics.com/bitcoin/micro...</td>\n",
              "      <td>2022-07-19T00:00:00.000Z</td>\n",
              "    </tr>\n",
              "    <tr>\n",
              "      <th>9</th>\n",
              "      <td>The Currency Analytics</td>\n",
              "      <td>Long-Term BTC has Outperformed Inflation by Ma...</td>\n",
              "      <td>Inflation across the world is not a great news...</td>\n",
              "      <td>https://thecurrencyanalytics.com/bitcoin/long-...</td>\n",
              "      <td>2022-07-16T00:00:00.000Z</td>\n",
              "    </tr>\n",
              "  </tbody>\n",
              "</table>\n",
              "</div>\n",
              "      <button class=\"colab-df-convert\" onclick=\"convertToInteractive('df-cf90eb9a-c60c-4436-bfd9-f8fb72934f07')\"\n",
              "              title=\"Convert this dataframe to an interactive table.\"\n",
              "              style=\"display:none;\">\n",
              "        \n",
              "  <svg xmlns=\"http://www.w3.org/2000/svg\" height=\"24px\"viewBox=\"0 0 24 24\"\n",
              "       width=\"24px\">\n",
              "    <path d=\"M0 0h24v24H0V0z\" fill=\"none\"/>\n",
              "    <path d=\"M18.56 5.44l.94 2.06.94-2.06 2.06-.94-2.06-.94-.94-2.06-.94 2.06-2.06.94zm-11 1L8.5 8.5l.94-2.06 2.06-.94-2.06-.94L8.5 2.5l-.94 2.06-2.06.94zm10 10l.94 2.06.94-2.06 2.06-.94-2.06-.94-.94-2.06-.94 2.06-2.06.94z\"/><path d=\"M17.41 7.96l-1.37-1.37c-.4-.4-.92-.59-1.43-.59-.52 0-1.04.2-1.43.59L10.3 9.45l-7.72 7.72c-.78.78-.78 2.05 0 2.83L4 21.41c.39.39.9.59 1.41.59.51 0 1.02-.2 1.41-.59l7.78-7.78 2.81-2.81c.8-.78.8-2.07 0-2.86zM5.41 20L4 18.59l7.72-7.72 1.47 1.35L5.41 20z\"/>\n",
              "  </svg>\n",
              "      </button>\n",
              "      \n",
              "  <style>\n",
              "    .colab-df-container {\n",
              "      display:flex;\n",
              "      flex-wrap:wrap;\n",
              "      gap: 12px;\n",
              "    }\n",
              "\n",
              "    .colab-df-convert {\n",
              "      background-color: #E8F0FE;\n",
              "      border: none;\n",
              "      border-radius: 50%;\n",
              "      cursor: pointer;\n",
              "      display: none;\n",
              "      fill: #1967D2;\n",
              "      height: 32px;\n",
              "      padding: 0 0 0 0;\n",
              "      width: 32px;\n",
              "    }\n",
              "\n",
              "    .colab-df-convert:hover {\n",
              "      background-color: #E2EBFA;\n",
              "      box-shadow: 0px 1px 2px rgba(60, 64, 67, 0.3), 0px 1px 3px 1px rgba(60, 64, 67, 0.15);\n",
              "      fill: #174EA6;\n",
              "    }\n",
              "\n",
              "    [theme=dark] .colab-df-convert {\n",
              "      background-color: #3B4455;\n",
              "      fill: #D2E3FC;\n",
              "    }\n",
              "\n",
              "    [theme=dark] .colab-df-convert:hover {\n",
              "      background-color: #434B5C;\n",
              "      box-shadow: 0px 1px 3px 1px rgba(0, 0, 0, 0.15);\n",
              "      filter: drop-shadow(0px 1px 2px rgba(0, 0, 0, 0.3));\n",
              "      fill: #FFFFFF;\n",
              "    }\n",
              "  </style>\n",
              "\n",
              "      <script>\n",
              "        const buttonEl =\n",
              "          document.querySelector('#df-cf90eb9a-c60c-4436-bfd9-f8fb72934f07 button.colab-df-convert');\n",
              "        buttonEl.style.display =\n",
              "          google.colab.kernel.accessAllowed ? 'block' : 'none';\n",
              "\n",
              "        async function convertToInteractive(key) {\n",
              "          const element = document.querySelector('#df-cf90eb9a-c60c-4436-bfd9-f8fb72934f07');\n",
              "          const dataTable =\n",
              "            await google.colab.kernel.invokeFunction('convertToInteractive',\n",
              "                                                     [key], {});\n",
              "          if (!dataTable) return;\n",
              "\n",
              "          const docLinkHtml = 'Like what you see? Visit the ' +\n",
              "            '<a target=\"_blank\" href=https://colab.research.google.com/notebooks/data_table.ipynb>data table notebook</a>'\n",
              "            + ' to learn more about interactive tables.';\n",
              "          element.innerHTML = '';\n",
              "          dataTable['output_type'] = 'display_data';\n",
              "          await google.colab.output.renderOutput(dataTable, element);\n",
              "          const docLink = document.createElement('div');\n",
              "          docLink.innerHTML = docLinkHtml;\n",
              "          element.appendChild(docLink);\n",
              "        }\n",
              "      </script>\n",
              "    </div>\n",
              "  </div>\n",
              "  "
            ]
          },
          "metadata": {},
          "execution_count": 65
        }
      ]
    },
    {
      "cell_type": "markdown",
      "source": [
        "# WebSockets"
      ],
      "metadata": {
        "id": "AcInHTmgKPXm"
      }
    },
    {
      "cell_type": "code",
      "source": [],
      "metadata": {
        "id": "Wt7UPeK_JijI"
      },
      "execution_count": null,
      "outputs": []
    }
  ]
}